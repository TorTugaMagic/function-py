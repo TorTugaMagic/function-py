{
 "cells": [
  {
   "cell_type": "markdown",
   "id": "1115eaa3",
   "metadata": {},
   "source": [
    "# desde el terminal usando modulos del VVENV wikipedia"
   ]
  },
  {
   "cell_type": "code",
   "execution_count": null,
   "id": "1183040b",
   "metadata": {},
   "outputs": [],
   "source": [
    "import  wikipedia\n",
    "\n",
    "result = wikipedia.summary(\"microsoft\", sentences=4)\n",
    "print(result)"
   ]
  },
  {
   "cell_type": "code",
   "execution_count": null,
   "id": "01c5171c",
   "metadata": {},
   "outputs": [],
   "source": [
    "import  wikipedia\n",
    "\n",
    "def scrape(name=\"Microsoft\", length=5):\n",
    "    result = wikipedia.summary(name, sentences=length)\n",
    "    return result\n",
    "\n",
    "print(scrape())"
   ]
  },
  {
   "cell_type": "code",
   "execution_count": null,
   "id": "400599af",
   "metadata": {},
   "outputs": [],
   "source": [
    "import click\n",
    "import  wikipedia\n",
    "\n",
    "#from mylib.bot import scrape\n",
    "\n",
    "@click.command()\n",
    "@click.option(\"--name\", prompt=\"wikipedia page to scrape\",\n",
    "                help='Web page we want to scrape')\n",
    "def scrape(name=\"Microsoft\", length=5):\n",
    "    result = wikipedia.summary(name, sentences=length)\n",
    "    click.echo(click.style(f\"{result}:\", fg=\"red\"))\n",
    "\n",
    "if __name__ == \"__main__\":\n",
    "   scrape()"
   ]
  },
  {
   "cell_type": "code",
   "execution_count": null,
   "id": "7a68ea01",
   "metadata": {},
   "outputs": [],
   "source": [
    "import click\n",
    "from mylib.bot import scrape\n",
    "#import  wikipedia\n",
    "\n",
    "#from mylib.bot import scrape\n",
    "# click.echo\n",
    "\n",
    "@click.command()\n",
    "@click.option(\"--name\",\n",
    "                help='Web page we want to scrape')\n",
    "def cli(name):\n",
    "    result = scrape(name)\n",
    "    click.echo(click.style(f\"{result}:\", fg=\"red\", bg=\"blue\"))\n",
    "\n",
    "if __name__ == \"__main__\":\n",
    "   cli()"
   ]
  },
  {
   "cell_type": "markdown",
   "id": "694864dc",
   "metadata": {},
   "source": [
    "# usando fire"
   ]
  },
  {
   "cell_type": "code",
   "execution_count": null,
   "id": "f7ac61ae",
   "metadata": {},
   "outputs": [],
   "source": []
  }
 ],
 "metadata": {
  "language_info": {
   "name": "python"
  }
 },
 "nbformat": 4,
 "nbformat_minor": 5
}
