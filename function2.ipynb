{
 "cells": [
  {
   "cell_type": "markdown",
   "id": "1115eaa3",
   "metadata": {},
   "source": [
    "# desde el terminal usando modulos del VVENV wikipedia"
   ]
  },
  {
   "cell_type": "code",
   "execution_count": null,
   "id": "1183040b",
   "metadata": {},
   "outputs": [],
   "source": [
    "import  wikipedia\n",
    "\n",
    "result = wikipedia.summary(\"microsoft\", sentences=4)\n",
    "print(result)"
   ]
  },
  {
   "cell_type": "code",
   "execution_count": null,
   "id": "01c5171c",
   "metadata": {},
   "outputs": [],
   "source": [
    "import  wikipedia\n",
    "\n",
    "def scrape(name=\"Microsoft\", length=5):\n",
    "    result = wikipedia.summary(name, sentences=length)\n",
    "    return result\n",
    "\n",
    "print(scrape())"
   ]
  }
 ],
 "metadata": {
  "language_info": {
   "name": "python"
  }
 },
 "nbformat": 4,
 "nbformat_minor": 5
}
