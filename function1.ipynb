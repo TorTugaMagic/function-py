{
 "cells": [
  {
   "cell_type": "code",
   "execution_count": null,
   "id": "1423d6c5",
   "metadata": {},
   "outputs": [],
   "source": [
    "debian: git, zsh, curl, vim, nestat"
   ]
  },
  {
   "cell_type": "code",
   "execution_count": 2,
   "id": "a1d1d962",
   "metadata": {},
   "outputs": [
    {
     "name": "stdout",
     "output_type": "stream",
     "text": [
      "Hola, Alice\n"
     ]
    }
   ],
   "source": [
    "print('Hola, Alice')"
   ]
  },
  {
   "cell_type": "code",
   "execution_count": null,
   "id": "1acbf8fe",
   "metadata": {},
   "outputs": [],
   "source": [
    "virtualenv ~/.venv"
   ]
  },
  {
   "cell_type": "code",
   "execution_count": null,
   "id": "00675a6a",
   "metadata": {},
   "outputs": [],
   "source": [
    "source ~/.venv/bin/activate"
   ]
  },
  {
   "cell_type": "code",
   "execution_count": null,
   "id": "9f3244fb",
   "metadata": {},
   "outputs": [],
   "source": [
    "!which python\n",
    "\n",
    "/home/codespace/.venv/bin/python"
   ]
  },
  {
   "cell_type": "markdown",
   "id": "686a066d",
   "metadata": {},
   "source": [
    "# Styles of functions"
   ]
  },
  {
   "cell_type": "code",
   "execution_count": 1,
   "id": "540bbdd2",
   "metadata": {},
   "outputs": [],
   "source": [
    "def simple():pass"
   ]
  },
  {
   "cell_type": "code",
   "execution_count": 4,
   "id": "a5d03213",
   "metadata": {},
   "outputs": [],
   "source": [
    "def simple2():\n",
    "    print(\"Buenos días Alice\")"
   ]
  },
  {
   "cell_type": "code",
   "execution_count": 5,
   "id": "7faa4c5c",
   "metadata": {},
   "outputs": [
    {
     "name": "stdout",
     "output_type": "stream",
     "text": [
      "Buenos días Alice\n"
     ]
    }
   ],
   "source": [
    "simple2()"
   ]
  },
  {
   "cell_type": "markdown",
   "id": "d021e620",
   "metadata": {},
   "source": [
    "# Most Useful"
   ]
  },
  {
   "cell_type": "code",
   "execution_count": null,
   "id": "2d31a094",
   "metadata": {},
   "outputs": [],
   "source": []
  },
  {
   "cell_type": "code",
   "execution_count": 7,
   "id": "0b545ac2",
   "metadata": {},
   "outputs": [],
   "source": [
    "def my_worker(fruit):\n",
    "    statements = f\"My favorite meal is chicken and {fruit}\"\n",
    "    meals = {\"dinner\": statements}\n",
    "    return meals\n",
    "\n"
   ]
  },
  {
   "cell_type": "code",
   "execution_count": 8,
   "id": "a25fb501",
   "metadata": {},
   "outputs": [],
   "source": [
    "meal = my_worker(\"Apple\")"
   ]
  },
  {
   "cell_type": "code",
   "execution_count": 9,
   "id": "313bb27f",
   "metadata": {},
   "outputs": [
    {
     "data": {
      "text/plain": [
       "dict"
      ]
     },
     "execution_count": 9,
     "metadata": {},
     "output_type": "execute_result"
    }
   ],
   "source": [
    "type(meal)"
   ]
  },
  {
   "cell_type": "code",
   "execution_count": 10,
   "id": "5a34b3b0",
   "metadata": {},
   "outputs": [
    {
     "data": {
      "text/plain": [
       "{'dinner': 'My favorite meal is chicken and Apple'}"
      ]
     },
     "execution_count": 10,
     "metadata": {},
     "output_type": "execute_result"
    }
   ],
   "source": [
    "meal"
   ]
  },
  {
   "cell_type": "code",
   "execution_count": 11,
   "id": "4f34d091",
   "metadata": {},
   "outputs": [
    {
     "data": {
      "text/plain": [
       "dict_keys(['dinner'])"
      ]
     },
     "execution_count": 11,
     "metadata": {},
     "output_type": "execute_result"
    }
   ],
   "source": [
    "meal.keys()"
   ]
  },
  {
   "cell_type": "code",
   "execution_count": 12,
   "id": "83539123",
   "metadata": {},
   "outputs": [],
   "source": [
    "def human(food):\n",
    "    consume = food[\"dinner\"]\n",
    "    return consume"
   ]
  },
  {
   "cell_type": "code",
   "execution_count": null,
   "id": "86b22535",
   "metadata": {},
   "outputs": [],
   "source": [
    "my_meal=human(meal)\n",
    "print(f\"I want my meal. It will be: {my_meal}\")"
   ]
  },
  {
   "cell_type": "code",
   "execution_count": 13,
   "id": "5353d0c3",
   "metadata": {},
   "outputs": [
    {
     "ename": "ModuleNotFoundError",
     "evalue": "No module named 'wikipedia'",
     "output_type": "error",
     "traceback": [
      "\u001b[31m---------------------------------------------------------------------------\u001b[39m",
      "\u001b[31mModuleNotFoundError\u001b[39m                       Traceback (most recent call last)",
      "\u001b[36mCell\u001b[39m\u001b[36m \u001b[39m\u001b[32mIn[13]\u001b[39m\u001b[32m, line 1\u001b[39m\n\u001b[32m----> \u001b[39m\u001b[32m1\u001b[39m \u001b[38;5;28;01mimport\u001b[39;00m\u001b[38;5;250m \u001b[39m\u001b[34;01mwikipedia\u001b[39;00m \n",
      "\u001b[31mModuleNotFoundError\u001b[39m: No module named 'wikipedia'"
     ]
    }
   ],
   "source": [
    "import wikipedia "
   ]
  }
 ],
 "metadata": {
  "kernelspec": {
   "display_name": "Python 3",
   "language": "python",
   "name": "python3"
  },
  "language_info": {
   "codemirror_mode": {
    "name": "ipython",
    "version": 3
   },
   "file_extension": ".py",
   "mimetype": "text/x-python",
   "name": "python",
   "nbconvert_exporter": "python",
   "pygments_lexer": "ipython3",
   "version": "3.12.1"
  }
 },
 "nbformat": 4,
 "nbformat_minor": 5
}
